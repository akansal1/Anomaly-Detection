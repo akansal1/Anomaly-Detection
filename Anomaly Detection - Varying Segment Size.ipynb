{
 "cells": [
  {
   "cell_type": "markdown",
   "metadata": {},
   "source": [
    "# Effects of Segment Size on Reconstruction Error\n",
    "\n",
    "In previous parts of this series, we have used a segment size of 90 data points in developing our library of cluster centroids. Let's vary the segment size and see what effect it has on the ability to faithfully reconstruct our training data. Then, to see if we are overfitting the model, we will try it on our test data set."
   ]
  }
 ],
 "metadata": {
  "kernelspec": {
   "display_name": "Python 3",
   "language": "python",
   "name": "python3"
  },
  "language_info": {
   "codemirror_mode": {
    "name": "ipython",
    "version": 3
   },
   "file_extension": ".py",
   "mimetype": "text/x-python",
   "name": "python",
   "nbconvert_exporter": "python",
   "pygments_lexer": "ipython3",
   "version": "3.5.1+"
  }
 },
 "nbformat": 4,
 "nbformat_minor": 0
}
